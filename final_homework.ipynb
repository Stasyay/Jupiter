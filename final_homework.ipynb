{
 "cells": [
  {
   "cell_type": "markdown",
   "id": "cbaea8ab",
   "metadata": {},
   "source": [
    "f(x)=0.6x^3+5.5x^2+10x -5\n",
    "\n",
    "    Определить корни\n",
    "\n",
    "    Найти интервалы, на которых функция возрастает\n",
    "\n",
    "    Найти интервалы, на которых функция убывает\n",
    "\n",
    "    Построить график\n",
    "\n",
    "    Вычислить вершину\n",
    "\n",
    "    Определить промежутки, на котором f > 0\n",
    "\n",
    "    Определить промежутки, на котором f < 0\n",
    "\n"
   ]
  },
  {
   "cell_type": "code",
   "execution_count": 1,
   "id": "af950d1d",
   "metadata": {},
   "outputs": [
    {
     "data": {
      "text/latex": [
       "$\\displaystyle 0.6 x^{3} + 5.5 x^{2} + 10 x - 5$"
      ],
      "text/plain": [
       "0.6*x**3 + 5.5*x**2 + 10*x - 5"
      ]
     },
     "execution_count": 1,
     "metadata": {},
     "output_type": "execute_result"
    }
   ],
   "source": [
    "from sympy import *\n",
    "\n",
    "a = 0.6\n",
    "b = 5.5\n",
    "c = 10\n",
    "d = -5\n",
    "x = Symbol('x')\n",
    "\n",
    "f = a * (x**3) + b * (x**2) + c * x + d\n",
    "f"
   ]
  },
  {
   "cell_type": "markdown",
   "id": "1864fc4a",
   "metadata": {},
   "source": [
    "1. Корни"
   ]
  },
  {
   "cell_type": "code",
   "execution_count": 2,
   "id": "56eea97d",
   "metadata": {},
   "outputs": [
    {
     "name": "stdout",
     "output_type": "stream",
     "text": [
      "x1 =  -6.32174537314726\n",
      "x2 =  -3.25046383307744\n",
      "x3 =  0.405542539558034\n"
     ]
    }
   ],
   "source": [
    "x1 = solve(f, x, cubics = False)[0].n()\n",
    "x2 = solve(f, x, cubics = False)[1].n()\n",
    "x3 = solve(f, x, cubics = False)[2].n()\n",
    "print('x1 = ', x1)\n",
    "print('x2 = ', x2)\n",
    "print('x3 = ', x3)"
   ]
  },
  {
   "cell_type": "markdown",
   "id": "9f0d056b",
   "metadata": {},
   "source": [
    "Производная функции"
   ]
  },
  {
   "cell_type": "code",
   "execution_count": 3,
   "id": "4c2d338e",
   "metadata": {},
   "outputs": [
    {
     "data": {
      "text/latex": [
       "$\\displaystyle 1.8 x^{2} + 11.0 x + 10$"
      ],
      "text/plain": [
       "1.8*x**2 + 11.0*x + 10"
      ]
     },
     "execution_count": 3,
     "metadata": {},
     "output_type": "execute_result"
    }
   ],
   "source": [
    "dif = diff(f)\n",
    "dif"
   ]
  },
  {
   "cell_type": "markdown",
   "id": "b8c88615",
   "metadata": {},
   "source": [
    "2. Интервалы, на которых функция возрастает f(x)>0"
   ]
  },
  {
   "cell_type": "code",
   "execution_count": 4,
   "id": "cd89dc90",
   "metadata": {},
   "outputs": [
    {
     "data": {
      "text/latex": [
       "$\\displaystyle \\left(-1.11111111111111 < x \\wedge x < \\infty\\right) \\vee \\left(-\\infty < x \\wedge x < -5.0\\right)$"
      ],
      "text/plain": [
       "((-1.11111111111111 < x) & (x < oo)) | ((-oo < x) & (x < -5.0))"
      ]
     },
     "execution_count": 4,
     "metadata": {},
     "output_type": "execute_result"
    }
   ],
   "source": [
    "solve(dif > 0, x)"
   ]
  },
  {
   "cell_type": "markdown",
   "id": "2b5ec683",
   "metadata": {},
   "source": [
    "3. Интервалы, на которых функция убывает f(x)<0"
   ]
  },
  {
   "cell_type": "code",
   "execution_count": 5,
   "id": "5e77e1e8",
   "metadata": {},
   "outputs": [
    {
     "data": {
      "text/latex": [
       "$\\displaystyle -5.0 < x \\wedge x < -1.11111111111111$"
      ],
      "text/plain": [
       "(-5.0 < x) & (x < -1.11111111111111)"
      ]
     },
     "execution_count": 5,
     "metadata": {},
     "output_type": "execute_result"
    }
   ],
   "source": [
    "solve(dif < 0, x)"
   ]
  },
  {
   "cell_type": "markdown",
   "id": "a6931d21",
   "metadata": {},
   "source": [
    "4. График"
   ]
  },
  {
   "cell_type": "code",
   "execution_count": 6,
   "id": "2419d19a",
   "metadata": {},
   "outputs": [
    {
     "data": {
      "image/png": "[encoded data removed]",
      "text/plain": [
       "<Figure size 640x480 with 1 Axes>"
      ]
     },
     "metadata": {},
     "output_type": "display_data"
    }
   ],
   "source": [
    "from sympy.plotting import plot\n",
    "g = plot(f, (x,x1, x3), line_color = 'red', title = 'ГРАФИК')"
   ]
  },
  {
   "cell_type": "markdown",
   "id": "079f71d5",
   "metadata": {},
   "source": [
    "5. Вершины"
   ]
  },
  {
   "cell_type": "code",
   "execution_count": 7,
   "id": "4c9996a6",
   "metadata": {},
   "outputs": [
    {
     "name": "stdout",
     "output_type": "stream",
     "text": [
      "[-5.00000000000000, 7.50000000000001]\n",
      "[-1.11111111111111, -10.1440329218107]\n"
     ]
    }
   ],
   "source": [
    "from sympy.calculus.util import minimum, maximum\n",
    "interv = Interval(x1, x3)\n",
    "res_min = minimum(f, x, interv)\n",
    "res_max = maximum(f, x, interv)\n",
    "\n",
    "print(f\"[{solve(dif, x)[0].n()}, {res_max}]\")\n",
    "print(f\"[{solve(dif, x)[1].n()}, {res_min}]\")"
   ]
  },
  {
   "cell_type": "markdown",
   "id": "8e5321ca",
   "metadata": {},
   "source": [
    "6. Промежутки, на котором f > 0"
   ]
  },
  {
   "cell_type": "code",
   "execution_count": 8,
   "id": "86742cf1",
   "metadata": {},
   "outputs": [
    {
     "data": {
      "text/latex": [
       "$\\displaystyle \\left(-6.32174537314726 < x \\wedge x < -3.25046383307744\\right) \\vee \\left(0.405542539558034 < x \\wedge x < \\infty\\right)$"
      ],
      "text/plain": [
       "((-6.32174537314726 < x) & (x < -3.25046383307744)) | ((0.405542539558034 < x) & (x < oo))"
      ]
     },
     "execution_count": 8,
     "metadata": {},
     "output_type": "execute_result"
    }
   ],
   "source": [
    "solve(f > 0, x)"
   ]
  },
  {
   "cell_type": "markdown",
   "id": "3cbe5744",
   "metadata": {},
   "source": [
    "7. Промежутки, на котором f < 0"
   ]
  },
  {
   "cell_type": "code",
   "execution_count": 9,
   "id": "3a6fc6dd",
   "metadata": {},
   "outputs": [
    {
     "data": {
      "text/latex": [
       "$\\displaystyle \\left(-3.25046383307744 < x \\wedge x < 0.405542539558034\\right) \\vee \\left(-\\infty < x \\wedge x < -6.32174537314726\\right)$"
      ],
      "text/plain": [
       "((-3.25046383307744 < x) & (x < 0.405542539558034)) | ((-oo < x) & (x < -6.32174537314726))"
      ]
     },
     "execution_count": 9,
     "metadata": {},
     "output_type": "execute_result"
    }
   ],
   "source": [
    "solve(f < 0, x)"
   ]
  }
 ],
 "metadata": {
  "kernelspec": {
   "display_name": "Python 3 (ipykernel)",
   "language": "python",
   "name": "python3"
  },
  "language_info": {
   "codemirror_mode": {
    "name": "ipython",
    "version": 3
   },
   "file_extension": ".py",
   "mimetype": "text/x-python",
   "name": "python",
   "nbconvert_exporter": "python",
   "pygments_lexer": "ipython3",
   "version": "3.10.5"
  }
 },
 "nbformat": 4,
 "nbformat_minor": 5
}
